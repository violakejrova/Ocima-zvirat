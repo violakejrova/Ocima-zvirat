{
 "cells": [
  {
   "cell_type": "code",
   "execution_count": 9,
   "id": "8e73d0a8-a47b-4a1e-af49-54349e1dcdf0",
   "metadata": {},
   "outputs": [
    {
     "data": {
      "image/png": "[encoded data removed]",
      "text/plain": [
       "<Figure size 1400x700 with 1 Axes>"
      ]
     },
     "metadata": {},
     "output_type": "display_data"
    }
   ],
   "source": [
    "import matplotlib.pyplot as plt\n",
    "import matplotlib.patches as patches\n",
    "\n",
    "# Konstantní velikost prostoru na obrázku (vizuálně sjednocený prostor)\n",
    "fixni_vel = 200 \n",
    "\n",
    "# Seznam zvířat: (jméno, velikost prostoru v m², odhadovaná plocha těla v m², skutečný prostor)\n",
    "animals = [\n",
    "    (\"Kočka\", 6, 0.15),\n",
    "    (\"Pes\", 5.5, 0.4),\n",
    "    (\"Prase\", 1, 0.5),\n",
    "    (\"Tele\", 1.8, 0.7),\n",
    "    (\"Kráva\", 5, 1.2),\n",
    "    (\"Nosnice\", 0.11, 0.015),\n",
    "    (\"Kuře\", 0.03, 0.01),\n",
    "    (\"Králík\", 0.2, 0.025),\n",
    "]\n",
    "\n",
    "# Najdeme největší skutečný prostor pro poměrové škálování těla\n",
    "max_space = max(space for _, space, _ in animals)\n",
    "scale = (fixni_vel ** 2) / max_space  # přepočítáme scale podle max prostoru\n",
    "\n",
    "fig, ax = plt.subplots(figsize=(14, 7))\n",
    "x_offset = 0\n",
    "\n",
    "for name, space_area, body_area in animals:\n",
    "    # Tělo se škáluje podle skutečného poměru vůči prostoru\n",
    "    body_side = ((body_area / space_area) * (fixni_vel ** 2)) ** 0.5\n",
    "\n",
    "    # Vnější čtverec - prostor (všude stejný)\n",
    "    rect_space = patches.Rectangle((x_offset, 0), fixni_vel, fixni_vel,\n",
    "                                   linewidth=2, edgecolor='black', facecolor='lightgrey')\n",
    "    ax.add_patch(rect_space)\n",
    "\n",
    "    # Vnitřní čtverec - tělo zvířete\n",
    "    center_x = x_offset + fixni_vel / 2\n",
    "    center_y = fixni_vel / 2\n",
    "    rect_body = patches.Rectangle((center_x - body_side / 2, center_y - body_side / 2),\n",
    "                                  body_side, body_side,\n",
    "                                  linewidth=1.5, edgecolor='none', facecolor='green')\n",
    "    ax.add_patch(rect_body)\n",
    "    ax.text(center_x, -15, name, ha='center', va='top', fontsize=9)\n",
    "    x_offset += fixni_vel + 25\n",
    "\n",
    "# Nastavení osy\n",
    "ax.set_xlim(0, x_offset)\n",
    "ax.set_ylim(0, fixni_vel)\n",
    "ax.set_aspect('equal')\n",
    "ax.axis('off')\n",
    "\n",
    "plt.tight_layout()\n",
    "plt.show()\n"
   ]
  }
 ],
 "metadata": {
  "kernelspec": {
   "display_name": "Python 3 (ipykernel)",
   "language": "python",
   "name": "python3"
  },
  "language_info": {
   "codemirror_mode": {
    "name": "ipython",
    "version": 3
   },
   "file_extension": ".py",
   "mimetype": "text/x-python",
   "name": "python",
   "nbconvert_exporter": "python",
   "pygments_lexer": "ipython3",
   "version": "3.12.3"
  }
 },
 "nbformat": 4,
 "nbformat_minor": 5
}
